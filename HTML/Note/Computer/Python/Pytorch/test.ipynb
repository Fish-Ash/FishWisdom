{
 "cells": [
  {
   "cell_type": "code",
   "execution_count": 76,
   "id": "c5a9e5c9",
   "metadata": {},
   "outputs": [
    {
     "name": "stdout",
     "output_type": "stream",
     "text": [
      "tensor(0.4463, grad_fn=<MeanBackward0>)\n",
      "tensor([0.3333, 0.3333, 0.3333])\n"
     ]
    }
   ],
   "source": [
    "import torch\n",
    "\n",
    "x = torch.rand(3, requires_grad=True)\n",
    "\n",
    "y = x.mean()\n",
    "print(y)\n",
    "\n",
    "v = torch.ones(3) + 1\n",
    "y.backward()\n",
    "print(x.grad)\n"
   ]
  },
  {
   "cell_type": "code",
   "execution_count": null,
   "id": "41e1041d",
   "metadata": {},
   "outputs": [],
   "source": []
  },
  {
   "cell_type": "code",
   "execution_count": 10,
   "id": "e4d08e8e",
   "metadata": {},
   "outputs": [
    {
     "name": "stdout",
     "output_type": "stream",
     "text": [
      "tensor(3., requires_grad=True)\n",
      "tensor(5., grad_fn=<AddBackward0>)\n",
      "tensor(5.)\n"
     ]
    }
   ],
   "source": [
    "import torch\n",
    "a = torch.tensor(2.0)\n",
    "x = torch.tensor(3.0, requires_grad = True)\n",
    "print(x)\n",
    "print(x + 2)\n",
    "with torch.no_grad():\n",
    "    y = x + 2\n",
    "    print(y)"
   ]
  },
  {
   "cell_type": "code",
   "execution_count": null,
   "id": "5030de71",
   "metadata": {},
   "outputs": [
    {
     "name": "stdout",
     "output_type": "stream",
     "text": [
      "Parameter containing:\n",
      "tensor([ 0.1417, -0.1449,  0.1393, -0.2196, -0.1616], requires_grad=True)\n"
     ]
    }
   ],
   "source": [
    "# 导入PyTorch库\n",
    "import torch\n",
    "import torch.nn as nn\n",
    "\n",
    "# 定义输入层大小、隐藏层大小、输出层大小和批量大小\n",
    "n_in, n_h, n_out, batch_size = 3, 5, 1, 10\n",
    "\n",
    "# 创建虚拟输入数据和目标数据\n",
    "x = torch.randn(batch_size, n_in)  # 随机生成输入数据\n",
    "y = torch.tensor([[1.0], [0.0], [0.0], \n",
    "                 [1.0], [1.0], [1.0], [0.0], [0.0], [1.0], [1.0]])  # 目标输出数据\n",
    "\n",
    "# 创建顺序模型，包含线性层、ReLU激活函数和Sigmoid激活函数\n",
    "model = nn.Sequential(\n",
    "   nn.Linear(n_in, n_h),  # 输入层到隐藏层的线性变换\n",
    "   nn.ReLU(),            # 隐藏层的ReLU激活函数\n",
    "   nn.Linear(n_h, n_out),  # 隐藏层到输出层的线性变换\n",
    "   nn.Sigmoid()           # 输出层的Sigmoid激活函数\n",
    ")\n",
    "\n",
    "print(model[0].bias)\n",
    "\n",
    "# 定义均方误差损失函数和随机梯度下降优化器\n",
    "criterion = torch.nn.MSELoss()\n",
    "optimizer = torch.optim.SGD(model.parameters(), lr=0.01)  # 学习率为0.01\n",
    "\n",
    "# 执行梯度下降算法进行模型训练\n",
    "for epoch in range(50):  # 迭代50次\n",
    "   y_pred = model(x)  # 前向传播，计算预测值\n",
    "   loss = criterion(y_pred, y)  # 计算损失\n",
    "   print('epoch: ', epoch, 'loss: ', loss.item())  # 打印损失值\n",
    "\n",
    "   optimizer.zero_grad()  # 清零梯度\n",
    "   loss.backward()  # 反向传播，计算梯度\n",
    "   optimizer.step()  # 更新模型参数"
   ]
  },
  {
   "cell_type": "code",
   "execution_count": 10,
   "id": "006aaf33",
   "metadata": {},
   "outputs": [
    {
     "name": "stdout",
     "output_type": "stream",
     "text": [
      "Linear(in_features=5, out_features=3, bias=True)\n"
     ]
    }
   ],
   "source": [
    "import torch\n",
    "import torch.nn as nn\n",
    "\n",
    "Layer = nn.Linear(5,3)\n",
    "print(Layer)"
   ]
  },
  {
   "cell_type": "code",
   "execution_count": null,
   "id": "c4e2c0c8",
   "metadata": {},
   "outputs": [],
   "source": []
  }
 ],
 "metadata": {
  "kernelspec": {
   "display_name": "torch",
   "language": "python",
   "name": "python3"
  },
  "language_info": {
   "codemirror_mode": {
    "name": "ipython",
    "version": 3
   },
   "file_extension": ".py",
   "mimetype": "text/x-python",
   "name": "python",
   "nbconvert_exporter": "python",
   "pygments_lexer": "ipython3",
   "version": "3.9.21"
  }
 },
 "nbformat": 4,
 "nbformat_minor": 5
}
